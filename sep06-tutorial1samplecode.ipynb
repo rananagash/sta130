{
 "cells": [
  {
   "cell_type": "code",
   "execution_count": 1,
   "id": "9e71821d",
   "metadata": {},
   "outputs": [
    {
     "name": "stdout",
     "output_type": "stream",
     "text": [
      "<!doctype html><html lang=\"en\"><head> <title data-react-helmet=\"true\">data.world</title>    <meta charset=\"utf-8\"><meta name=\"viewport\" content=\"width=device-width                                                                                                                                                                                                                                                                                                                                                                                                                                                                                                                                                                                                                                                                                                                                      0\n",
      "initial-scale=1\"><meta name=\"referrer\" content=\"origin-when-cross-origin\"><meta name=\"og:image\" content=\"https://d2ogkq1rg66kh0.cloudfront.net/site-resources/images/fb-image-share.3a87a6eb.png\"><meta name=\"og:site_name\" content=\"data.world\"><meta name=\"twitter:card\" content=\"summary\"><meta name=\"twitter:site\" content=\"@datadotworld\"><meta property=\"fb:app_id\" content=\"776416075825233\"><link rel=\"preconnect\" href=\"https://fonts.googleapis.com\"><link rel=\"preconnect\" href=\"https://fonts.gstatic.com\" crossorigin><link rel=\"stylesheet\" href=\"https://fonts.googleapis.com/css2?family=Inconsolata:wght@400;700&family=Lato:ital                                                                                                                                                                                                                                                       0\n",
      "wght@0                                                                                                                                                                                                                                                                                                                                                                                                                                                                                                                                                                                                                                                                                                                                                                                                                                                                                                   0\n",
      "300;0                                                                                                                                                                                                                                                                                                                                                                                                                                                                                                                                                                                                                                                                                                                                                                                                                                                                                                    0\n",
      "400;0                                                                                                                                                                                                                                                                                                                                                                                                                                                                                                                                                                                                                                                                                                                                                                                                                                                                                                    0\n",
      "                                                                                                                                                                                                                                                                                                                                                                                                                                                                                                                                                                                                                                                                                                                                                                                                                                                                                                        ..\n",
      "placeholder:\"Share what you would like to do with this dataset\".1                                                                                                                                                                                                                                                                                                                                                                                                                                                                                                                                                                                                                                                                                                                                                                                                                                        0\n",
      "required:true.2                                                                                                                                                                                                                                                                                                                                                                                                                                                                                                                                                                                                                                                                                                                                                                                                                                                                                          0\n",
      "readOnly:false.1                                                                                                                                                                                                                                                                                                                                                                                                                                                                                                                                                                                                                                                                                                                                                                                                                                                                                         0\n",
      "showOptionalFlag:false.1                                                                                                                                                                                                                                                                                                                                                                                                                                                                                                                                                                                                                                                                                                                                                                                                                                                                                 0\n",
      "type:\"textarea\"}]}</script><script type=\"application/json\" id=\"init-analytics\">{\"siteId\":\"00000\"}</script><script src=\"https://js.stripe.com/v3/\" async id=\"stripe-js\"></script>  <script type=\"text/javascript\" src=\"https://assets.data.world/js/runtime.99d0356ecd3baa88f28f.js\"></script><script type=\"text/javascript\" src=\"https://assets.data.world/js/vendors~RichTextEditor~vendors.3b43c4370a7e3ff92a6f.js\"></script><script type=\"text/javascript\" src=\"https://assets.data.world/js/vendors~app.e140deb19c3193233576.js\"></script><script type=\"text/javascript\" src=\"https://assets.data.world/js/vendors~app~vendors.7d2416948d914b1d6b5a.js\"></script><script type=\"text/javascript\" src=\"https://assets.data.world/js/vendors.c118bf30dd0298143936.js\"></script><script type=\"text/javascript\" src=\"https://assets.data.world/js/app.bc62d7f8b242aace1b9c.js\"></script></body></html>    0\n",
      "Length: 736, dtype: int64\n"
     ]
    }
   ],
   "source": [
    "import pandas as pd\n",
    "\n",
    "# Load the dataset from the URL\n",
    "url = \"https://data.world/timothyrenner/ufo-sightings/workspace/file?filename=scrubbed.csv\"\n",
    "ufo_data = pd.read_csv(url)\n",
    "\n",
    "# Count missing values in each column\n",
    "missing_data_counts = ufo_data.isnull().sum()\n",
    "\n",
    "# Display missing data counts\n",
    "print(missing_data_counts)"
   ]
  },
  {
   "cell_type": "code",
   "execution_count": null,
   "id": "7857a742",
   "metadata": {},
   "outputs": [],
   "source": []
  }
 ],
 "metadata": {
  "kernelspec": {
   "display_name": "Python 3 (ipykernel)",
   "language": "python",
   "name": "python3"
  },
  "language_info": {
   "codemirror_mode": {
    "name": "ipython",
    "version": 3
   },
   "file_extension": ".py",
   "mimetype": "text/x-python",
   "name": "python",
   "nbconvert_exporter": "python",
   "pygments_lexer": "ipython3",
   "version": "3.11.6"
  }
 },
 "nbformat": 4,
 "nbformat_minor": 5
}
