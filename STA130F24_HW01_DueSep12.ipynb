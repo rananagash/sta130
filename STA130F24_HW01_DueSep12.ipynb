{
 "cells": [
  {
   "cell_type": "code",
   "execution_count": 1,
   "id": "c069d17a",
   "metadata": {},
   "outputs": [
    {
     "data": {
      "text/plain": [
       "survived         0\n",
       "pclass           0\n",
       "sex              0\n",
       "age            177\n",
       "sibsp            0\n",
       "parch            0\n",
       "fare             0\n",
       "embarked         2\n",
       "class            0\n",
       "who              0\n",
       "adult_male       0\n",
       "deck           688\n",
       "embark_town      2\n",
       "alive            0\n",
       "alone            0\n",
       "dtype: int64"
      ]
     },
     "execution_count": 1,
     "metadata": {},
     "output_type": "execute_result"
    }
   ],
   "source": [
    "import pandas as pd\n",
    "url = \"https://raw.githubusercontent.com/mwaskom/seaborn-data/master/titanic.csv\"\n",
    "df = pd.read_csv(url)\n",
    "df.isna().sum()\n"
   ]
  },
  {
   "cell_type": "code",
   "execution_count": 8,
   "id": "b440cf2c",
   "metadata": {},
   "outputs": [
    {
     "name": "stdout",
     "output_type": "stream",
     "text": [
      "The DataFrame has 891 rows and 15 columns.\n"
     ]
    }
   ],
   "source": [
    "import pandas as pd\n",
    "\n",
    "# Load the dataset (you can replace this with your own dataset)\n",
    "url = \"https://raw.githubusercontent.com/mwaskom/seaborn-data/master/titanic.csv\"\n",
    "titanic_data = pd.read_csv(url)\n",
    "\n",
    "# Get the number of rows and columns\n",
    "rows, columns = titanic_data.shape\n",
    "\n",
    "print(f\"The DataFrame has {rows} rows and {columns} columns.\")\n"
   ]
  },
  {
   "cell_type": "markdown",
   "id": "ecb08c45",
   "metadata": {},
   "source": [
    "### 2.2 Observations and Variables\n",
    "\n",
    "**Observations**:\n",
    "   - Observations represent individual units of data or records in the dataset. Each row in the dataset corresponds to one observation. In this dataset, each row represents a single  passenger on the Titanic. A passenger is an observation which includes their entire row.\n",
    "   \n",
    "**Variables**:\n",
    "   - Variables are the characteristics or attributes recorded for each observation. In a DataFrame, variables correspond to the columns. Each column represents characteristics of the passengers on the Titanic in this dataset, like their age or sex."
   ]
  },
  {
   "cell_type": "code",
   "execution_count": 7,
   "id": "86e7bd14",
   "metadata": {},
   "outputs": [
    {
     "name": "stdout",
     "output_type": "stream",
     "text": [
      "Summary Statistics:\n",
      "         survived      pclass         age       sibsp       parch        fare\n",
      "count  891.000000  891.000000  714.000000  891.000000  891.000000  891.000000\n",
      "mean     0.383838    2.308642   29.699118    0.523008    0.381594   32.204208\n",
      "std      0.486592    0.836071   14.526497    1.102743    0.806057   49.693429\n",
      "min      0.000000    1.000000    0.420000    0.000000    0.000000    0.000000\n",
      "25%      0.000000    2.000000   20.125000    0.000000    0.000000    7.910400\n",
      "50%      0.000000    3.000000   28.000000    0.000000    0.000000   14.454200\n",
      "75%      1.000000    3.000000   38.000000    1.000000    0.000000   31.000000\n",
      "max      1.000000    3.000000   80.000000    8.000000    6.000000  512.329200\n",
      "\n",
      "Value Counts for 'sex' column:\n",
      "sex\n",
      "male      577\n",
      "female    314\n",
      "Name: count, dtype: int64\n",
      "\n",
      "Value Counts for 'class' column:\n",
      "class\n",
      "Third     491\n",
      "First     216\n",
      "Second    184\n",
      "Name: count, dtype: int64\n"
     ]
    }
   ],
   "source": [
    "import pandas as pd\n",
    "\n",
    "# Load the Titanic dataset\n",
    "url = 'https://raw.githubusercontent.com/mwaskom/seaborn-data/master/titanic.csv'\n",
    "df = pd.read_csv(url)\n",
    "\n",
    "# 1. Summarize the dataset with df.describe()\n",
    "summary = df.describe()\n",
    "print(\"Summary Statistics:\")\n",
    "print(summary)\n",
    "\n",
    "# 2. Count unique values in a specific column (for example, 'sex' or 'class')\n",
    "value_counts_sex = df['sex'].value_counts()\n",
    "value_counts_class = df['class'].value_counts()\n",
    "\n",
    "print(\"\\nValue Counts for 'sex' column:\")\n",
    "print(value_counts_sex)\n",
    "\n",
    "print(\"\\nValue Counts for 'class' column:\")\n",
    "print(value_counts_class)\n",
    "\n"
   ]
  },
  {
   "cell_type": "markdown",
   "id": "dd92cb33",
   "metadata": {},
   "source": [
    "### 4. Summary of Discrepancies\n",
    "\n",
    "- (a) Number of columns analyzed: df.describe() by default only summarizes numerical columns, so fewer columns are included compared to the total number of columns in df.shape.\n",
    "- (b) \"count\" values: The \"count\" in df.describe() shows the number of non-null values in each column, which might be less than the total number of rows due to missing data."
   ]
  },
  {
   "cell_type": "markdown",
   "id": "d9fba983",
   "metadata": {},
   "source": [
    "### 5. The Difference between an Attribute and a Method\n",
    "\n",
    "- An attribute is a characteristic of an object and it usually holds some form of data about that object. df.shape for example does not require parentheses because it is like a variable tied to that object and it doesn't perform any calculations, it just gives us information about the object (like number of rows or columns).\n",
    "- A method on the other hand, is a function that performs some sort of calculation on the data. df.describe() requires parentheses and it performs statistical calculations with the data like providing the mean, median, etc."
   ]
  },
  {
   "cell_type": "markdown",
   "id": "940e3296",
   "metadata": {},
   "source": [
    "### 6. Summary Statistics Definitions\n",
    "\n",
    "\n",
    "- Count - Number of non-null values. It shows how many non-missing data points exist in each column\n",
    "- Mean - Average of the values. It shows the central tendency but can be skewed by outliers\n",
    "- Std (Standard Deviation) - Measure of the spread of the data, or how much values vary from the mean. It helps show the variability in the dataset.\n",
    "- Min\tSmallest value\tShows the lowest value in the column\n",
    "- 25% (1st Quartile) - Value below which 25% of the data falls (Q1). Describes the lower part of the distribution\n",
    "- 50% (Median) - Middle value (half the data is below, half above). Provides a robust measure of central tendency, less affected by outliers\n",
    "- 75% (3rd Quartile) - Value below which 75% of the data falls (Q3). Describes the upper part of the distribution\n",
    "- Max - Largest value. Shows the highest value in the column"
   ]
  },
  {
   "cell_type": "markdown",
   "id": "56d12cdb",
   "metadata": {},
   "source": [
    "### 7. Missing Data\n",
    "\n",
    "- 1. An example where df.dropna() may be used instead of del df['col'] is when you would want to exclude all the rows with missing values in the age column but preserve the rest of the DataFrame\n",
    "- 2. del df['col'] is useful for deleting an entire column that has too many missing values. The cabin column has too many missing values for it to be useful so df['col'] will delete this column.\n",
    "- 3. Deleting the columns that are unnecessary due to high number of missing values first is important since then, the df.dropna() can focus on columns that matter more and are more useful. If you do it in the opposite order, performing df.dropna() would be useless on columns that would later be removed anyway.\n"
   ]
  },
  {
   "cell_type": "code",
   "execution_count": 10,
   "id": "dc3d57f4",
   "metadata": {},
   "outputs": [
    {
     "name": "stdout",
     "output_type": "stream",
     "text": [
      "Initial shape of the DataFrame: (891, 15)\n",
      "\n",
      "Missing values in each column:\n",
      " survived         0\n",
      "pclass           0\n",
      "sex              0\n",
      "age            177\n",
      "sibsp            0\n",
      "parch            0\n",
      "fare             0\n",
      "embarked         2\n",
      "class            0\n",
      "who              0\n",
      "adult_male       0\n",
      "deck           688\n",
      "embark_town      2\n",
      "alive            0\n",
      "alone            0\n",
      "dtype: int64\n"
     ]
    }
   ],
   "source": [
    "### 7.4 Before\n",
    "\n",
    "import pandas as pd\n",
    "\n",
    "# Load the Titanic dataset\n",
    "url = 'https://raw.githubusercontent.com/mwaskom/seaborn-data/master/titanic.csv'\n",
    "df = pd.read_csv(url)\n",
    "\n",
    "# Initial shape of the DataFrame\n",
    "print(\"Initial shape of the DataFrame:\", df.shape)\n",
    "print(\"\\nMissing values in each column:\\n\", df.isna().sum())\n"
   ]
  },
  {
   "cell_type": "code",
   "execution_count": null,
   "id": "77aedc42",
   "metadata": {},
   "outputs": [],
   "source": []
  },
  {
   "cell_type": "markdown",
   "id": "34324a7a",
   "metadata": {},
   "source": [
    "Before Cleaning:\n",
    "\n",
    "Shape: (891, 15) (Initial number of rows and columns)\n",
    "Missing values: Some columns, such as age and deck, have missing values. They are important, however, so they must be kept."
   ]
  },
  {
   "cell_type": "code",
   "execution_count": 6,
   "id": "6edde1c6",
   "metadata": {},
   "outputs": [
    {
     "name": "stdout",
     "output_type": "stream",
     "text": [
      "Initial shape of the DataFrame: (891, 15)\n",
      "\n",
      "Shape of the DataFrame after dropping rows with missing 'age': (714, 15)\n",
      "\n",
      "Missing values in each column after cleaning:\n",
      " survived         0\n",
      "pclass           0\n",
      "sex              0\n",
      "age              0\n",
      "sibsp            0\n",
      "parch            0\n",
      "fare             0\n",
      "embarked         2\n",
      "class            0\n",
      "who              0\n",
      "adult_male       0\n",
      "deck           530\n",
      "embark_town      2\n",
      "alive            0\n",
      "alone            0\n",
      "dtype: int64\n",
      "\n",
      "Shape of the DataFrame after dropping rows with missing 'deck': (203, 15)\n",
      "\n",
      "Missing values in each column after cleaning:\n",
      " survived        0\n",
      "pclass          0\n",
      "sex             0\n",
      "age            19\n",
      "sibsp           0\n",
      "parch           0\n",
      "fare            0\n",
      "embarked        2\n",
      "class           0\n",
      "who             0\n",
      "adult_male      0\n",
      "deck            0\n",
      "embark_town     2\n",
      "alive           0\n",
      "alone           0\n",
      "dtype: int64\n"
     ]
    }
   ],
   "source": [
    "import pandas as pd\n",
    "\n",
    "# Load the Titanic dataset\n",
    "url = 'https://raw.githubusercontent.com/mwaskom/seaborn-data/master/titanic.csv'\n",
    "df = pd.read_csv(url)\n",
    "\n",
    "# Initial shape of the DataFrame\n",
    "print(\"Initial shape of the DataFrame:\", df.shape)\n",
    "\n",
    "# Drop rows where 'age' has missing values\n",
    "df_cleaned_age = df.dropna(subset=['age'])\n",
    "\n",
    "# Drop rows where 'deck' has missing values\n",
    "df_cleaned_deck = df.dropna(subset=['deck'])\n",
    "\n",
    "# Shape after cleaning\n",
    "print(\"\\nShape of the DataFrame after dropping rows with missing 'age':\", df_cleaned_age.shape)\n",
    "print(\"\\nMissing values in each column after cleaning:\\n\", df_cleaned_age.isna().sum())\n",
    "print(\"\\nShape of the DataFrame after dropping rows with missing 'deck':\", df_cleaned_deck.shape)\n",
    "print(\"\\nMissing values in each column after cleaning:\\n\", df_cleaned_deck.isna().sum())"
   ]
  },
  {
   "cell_type": "markdown",
   "id": "51803e16",
   "metadata": {},
   "source": [
    "### 7.4 Justification\n",
    "\n",
    "I used df.dropna() to drop the missing values in 'age' and 'deck' columns but I didn't delete the rows entirely since they are important to the dataset hence why I didn't use del df['col']. Dropping the missing values helps clean the dataset and makes it easier to analyse."
   ]
  },
  {
   "cell_type": "markdown",
   "id": "c2272f7c",
   "metadata": {},
   "source": [
    "### 8. Analysis\n",
    "\n",
    "1. \n",
    "The code df.groupby(\"col1\")[\"col2\"].describe() performs group-wise summary statistics on a specific column of the DataFrame, grouped by another column.\n",
    "\n",
    "- df.groupby(\"col1\"): Groups the DataFrame by the unique values in \"col1\". This creates a group for each unique value in the \"col1\" column.\n",
    "\n",
    "- [\"col2\"]: Selects the \"col2\" column for aggregation. After grouping by \"col1\", this specifies that you want to perform operations on the \"col2\" column within each group.\n",
    "\n",
    "- .describe(): Generates descriptive statistics for the \"col2\" column within each group. This includes count, mean, standard deviation, minimum, maximum, and percentiles.\n",
    "\n"
   ]
  },
  {
   "cell_type": "code",
   "execution_count": 14,
   "id": "3284b818",
   "metadata": {},
   "outputs": [
    {
     "name": "stdout",
     "output_type": "stream",
     "text": [
      "First few rows of the dataset:\n",
      "   survived  pclass     sex   age  sibsp  parch     fare embarked  class  \\\n",
      "0         0       3    male  22.0      1      0   7.2500        S  Third   \n",
      "1         1       1  female  38.0      1      0  71.2833        C  First   \n",
      "2         1       3  female  26.0      0      0   7.9250        S  Third   \n",
      "3         1       1  female  35.0      1      0  53.1000        S  First   \n",
      "4         0       3    male  35.0      0      0   8.0500        S  Third   \n",
      "\n",
      "     who  adult_male deck  embark_town alive  alone  \n",
      "0    man        True  NaN  Southampton    no  False  \n",
      "1  woman       False    C    Cherbourg   yes  False  \n",
      "2  woman       False  NaN  Southampton   yes   True  \n",
      "3  woman       False    C  Southampton   yes  False  \n",
      "4    man        True  NaN  Southampton    no   True  \n",
      "\n",
      "Descriptive statistics for 'age' grouped by 'pclass':\n",
      "        count       mean        std   min   25%   50%   75%   max\n",
      "pclass                                                           \n",
      "1       186.0  38.233441  14.802856  0.92  27.0  37.0  49.0  80.0\n",
      "2       173.0  29.877630  14.001077  0.67  23.0  29.0  36.0  70.0\n",
      "3       355.0  25.140620  12.495398  0.42  18.0  24.0  32.0  74.0\n"
     ]
    }
   ],
   "source": [
    "import pandas as pd\n",
    "\n",
    "# Load the Titanic dataset\n",
    "url = 'https://raw.githubusercontent.com/mwaskom/seaborn-data/master/titanic.csv'\n",
    "df = pd.read_csv(url)\n",
    "\n",
    "# Display the first few rows to understand the structure\n",
    "print(\"First few rows of the dataset:\")\n",
    "print(df.head())\n",
    "\n",
    "# Group by 'pclass' and describe 'age'\n",
    "grouped_description = df.groupby(\"pclass\")[\"age\"].describe()\n",
    "\n",
    "# Display the result\n",
    "print(\"\\nDescriptive statistics for 'age' grouped by 'pclass':\")\n",
    "print(grouped_description)\n"
   ]
  },
  {
   "cell_type": "markdown",
   "id": "53cfb9cf",
   "metadata": {},
   "source": [
    "8.2 \n",
    "- the count in df.describe() gives an overview of the data’s completeness and distribution across the entire DataFrame. If the DataFrame has any missing values, the count will be less than the total number of rows. \n",
    "- the count in df.groupby(\"col1\")[\"col2\"].describe() counts for col2 within each group defined by col1. Each group might have different counts depending on missing values. The count for col2 will be different by group and may highlight how missing values are distributed across different categories in col1. \n",
    "\n",
    "8.3 \n",
    " <br> I think that troubleshooting errors in ChatGPT is easier than finding the answer to how to fix your code on google. Although Stack Overflow has good solutions to common errors in python, it is still much easier to ask ChatGPT to fix the code instead. ChatGPT knows the error in the context of the dataset that I'm using and gives me a new and improved code. It also explains to me in detail why that error occured and I can continue asking it questions if I still don't understand why that error happened. It helps a lot with catching errors in a simple and efficient way.\n"
   ]
  },
  {
   "cell_type": "markdown",
   "id": "ef742a52",
   "metadata": {},
   "source": [
    "### Summary of Chat with ChatGPT\n",
    "\n",
    "Summary of the Chat\n",
    "In this conversation, you explored various aspects of analyzing the Titanic dataset using Pandas in Python. Here’s a summary of the key points:\n",
    "\n",
    "Initial Dataset Overview:\n",
    "\n",
    "We started by discussing how to load and explore the dataset, including basic methods like df.describe(), which gives summary statistics for numerical columns, and df.value_counts() to understand the distribution of categorical variables.\n",
    "Handling Missing Values:\n",
    "\n",
    "You encountered and resolved issues related to missing values, including how to use df.dropna() to remove rows with missing values in specific columns.\n",
    "You also discussed the implications of using del df['col'] to drop entire columns with significant missing data and how that differs from using df.dropna().\n",
    "Differences Between Attributes and Methods:\n",
    "\n",
    "We covered the distinction between attributes like df.shape (which do not require parentheses) and methods like df.describe() (which do).\n",
    "Descriptive Statistics:\n",
    "\n",
    "You explored how to use df.groupby(\"col1\")[\"col2\"].describe() to get group-wise descriptive statistics, which is useful when analyzing the relationship between two variables.\n",
    "Missing Values and Grouping:\n",
    "\n",
    "We discussed how missing values affect the output of df.describe() versus df.groupby(\"col1\")[\"col2\"].describe(), particularly how the count differs in each case.\n",
    "\n",
    "***Link to chat log history*** https://chatgpt.com/share/66e38a15-0e10-8007-8a8c-796222b5ef03"
   ]
  },
  {
   "cell_type": "code",
   "execution_count": null,
   "id": "eaed46ae",
   "metadata": {},
   "outputs": [],
   "source": []
  }
 ],
 "metadata": {
  "kernelspec": {
   "display_name": "Python 3 (ipykernel)",
   "language": "python",
   "name": "python3"
  },
  "language_info": {
   "codemirror_mode": {
    "name": "ipython",
    "version": 3
   },
   "file_extension": ".py",
   "mimetype": "text/x-python",
   "name": "python",
   "nbconvert_exporter": "python",
   "pygments_lexer": "ipython3",
   "version": "3.11.6"
  }
 },
 "nbformat": 4,
 "nbformat_minor": 5
}
